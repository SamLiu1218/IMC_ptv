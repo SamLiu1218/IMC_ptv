{
 "cells": [
  {
   "cell_type": "code",
   "execution_count": 1,
   "metadata": {},
   "outputs": [],
   "source": [
    "import pandas as pd\n",
    "import numpy as np\n",
    "import matplotlib.pyplot as plt\n",
    "from matplotlib.colors import ListedColormap\n",
    "from PIL import Image\n",
    "import pickle\n",
    "import ipywidgets as widgets\n",
    "from IPython.display import display\n",
    "import os\n",
    "import io\n",
    "import seaborn as sns\n",
    "from ipyevents import Event # conda install -c conda-forge ipyevents\n",
    "\n",
    "%matplotlib osx \n",
    "# figures will be popups"
   ]
  },
  {
   "cell_type": "code",
   "execution_count": 2,
   "metadata": {},
   "outputs": [
    {
     "data": {
      "text/plain": [
       "['img_20190122_ICB_s1_p1_r1_a1_ac_31RD_S100__1.tiff',\n",
       " 'img_20190122_ICB_s1_p1_r1_a1_ac_31RD_CD3__1.tiff',\n",
       " 'img_20190122_ICB_s1_p1_r1_a1_ac_31RD_CD68__1.tiff',\n",
       " 'pixeltype.p',\n",
       " 'img_20190122_ICB_s1_p1_r1_a1_ac_31RD_CD4__1.tiff',\n",
       " 'img_20190122_ICB_s1_p1_r1_a1_ac_31RD_CD45RO__1.tiff',\n",
       " 'img_20190122_ICB_s1_p1_r1_a1_ac_31RD_CD8a__1.tiff',\n",
       " 'img_20190122_ICB_s1_p1_r1_a1_ac_31RD_CD20__1.tiff',\n",
       " 'img_20190122_ICB_s1_p1_r1_a1_ac_31RD_SOX10__1.tiff']"
      ]
     },
     "execution_count": 2,
     "metadata": {},
     "output_type": "execute_result"
    }
   ],
   "source": [
    "workdir = \"eg_data/\"\n",
    "os.listdir(workdir)"
   ]
  },
  {
   "cell_type": "markdown",
   "metadata": {},
   "source": [
    "# Input"
   ]
  },
  {
   "cell_type": "code",
   "execution_count": 3,
   "metadata": {},
   "outputs": [],
   "source": [
    " # list of all cores names\n",
    "fn_ls = [ \"img_20190122_ICB_s1_p1_r1_a1_ac_31RD\"]\n",
    "\n",
    "# dictionary in the form {core name : integer pixel type map } \n",
    "pixeltype_dict = {fn_ls[0]: pickle.load(open(workdir + 'pixeltype.p', 'rb'))['pixeltype'] }\n",
    "\n",
    "# number of pixel types (excluding 0)\n",
    "N_type = 9\n",
    "\n",
    "# potential channels you want to inspect. \n",
    "markers = ['CD3','CD4','CD8a','CD20','CD45RO','CD68','S100','SOX10']\n",
    "\n"
   ]
  },
  {
   "cell_type": "code",
   "execution_count": 4,
   "metadata": {},
   "outputs": [],
   "source": [
    "# a function to load/construct single channel images as np array. (it should read the entire image)\n",
    "def singlechannel(fn, m, **kargs):\n",
    "    return np.array(Image.open(f\"{workdir}/{fn}_{m}__1.tiff\"))"
   ]
  },
  {
   "cell_type": "markdown",
   "metadata": {},
   "source": [
    "## (optional) pixel type annotation\n",
    "It does't really matter since the color code can be modified in the GUI."
   ]
  },
  {
   "cell_type": "code",
   "execution_count": 5,
   "metadata": {},
   "outputs": [
    {
     "data": {
      "text/plain": [
       "['type 1',\n",
       " 'type 2',\n",
       " 'type 3',\n",
       " 'type 4',\n",
       " 'type 5',\n",
       " 'type 6',\n",
       " 'type 7',\n",
       " 'type 8',\n",
       " 'type 9']"
      ]
     },
     "execution_count": 5,
     "metadata": {},
     "output_type": "execute_result"
    }
   ],
   "source": [
    "# list of types, in the order of pixel type integers.\n",
    "types = [f'type {i}' for i in np.arange(1, N_type + 1)]\n",
    "types"
   ]
  },
  {
   "cell_type": "code",
   "execution_count": 6,
   "metadata": {},
   "outputs": [],
   "source": [
    "# replace generic types to more specific names \n",
    "types[1] = 'B'\n",
    "types[7] = 'Macro'"
   ]
  },
  {
   "cell_type": "markdown",
   "metadata": {},
   "source": [
    "## (optional) initial color code\n",
    "It does't really matter since the color code can be modified in the GUI."
   ]
  },
  {
   "cell_type": "code",
   "execution_count": 7,
   "metadata": {},
   "outputs": [
    {
     "data": {
      "text/html": [
       "<svg  width=\"495\" height=\"55\"><rect x=\"0\" y=\"0\" width=\"55\" height=\"55\" style=\"fill:#a6cee3;stroke-width:2;stroke:rgb(255,255,255)\"/><rect x=\"55\" y=\"0\" width=\"55\" height=\"55\" style=\"fill:#1f78b4;stroke-width:2;stroke:rgb(255,255,255)\"/><rect x=\"110\" y=\"0\" width=\"55\" height=\"55\" style=\"fill:#b2df8a;stroke-width:2;stroke:rgb(255,255,255)\"/><rect x=\"165\" y=\"0\" width=\"55\" height=\"55\" style=\"fill:#33a02c;stroke-width:2;stroke:rgb(255,255,255)\"/><rect x=\"220\" y=\"0\" width=\"55\" height=\"55\" style=\"fill:#fb9a99;stroke-width:2;stroke:rgb(255,255,255)\"/><rect x=\"275\" y=\"0\" width=\"55\" height=\"55\" style=\"fill:#e31a1c;stroke-width:2;stroke:rgb(255,255,255)\"/><rect x=\"330\" y=\"0\" width=\"55\" height=\"55\" style=\"fill:#fdbf6f;stroke-width:2;stroke:rgb(255,255,255)\"/><rect x=\"385\" y=\"0\" width=\"55\" height=\"55\" style=\"fill:#ff7f00;stroke-width:2;stroke:rgb(255,255,255)\"/><rect x=\"440\" y=\"0\" width=\"55\" height=\"55\" style=\"fill:#cab2d6;stroke-width:2;stroke:rgb(255,255,255)\"/></svg>"
      ],
      "text/plain": [
       "[(0.6509803921568628, 0.807843137254902, 0.8901960784313725),\n",
       " (0.12156862745098039, 0.47058823529411764, 0.7058823529411765),\n",
       " (0.6980392156862745, 0.8745098039215686, 0.5411764705882353),\n",
       " (0.2, 0.6274509803921569, 0.17254901960784313),\n",
       " (0.984313725490196, 0.6039215686274509, 0.6),\n",
       " (0.8901960784313725, 0.10196078431372549, 0.10980392156862745),\n",
       " (0.9921568627450981, 0.7490196078431373, 0.43529411764705883),\n",
       " (1.0, 0.4980392156862745, 0.0),\n",
       " (0.792156862745098, 0.6980392156862745, 0.8392156862745098)]"
      ]
     },
     "execution_count": 7,
     "metadata": {},
     "output_type": "execute_result"
    }
   ],
   "source": [
    "# default color palette\n",
    "palette = sns.color_palette('Paired',9) # maxium 12 colors\n",
    "palette"
   ]
  },
  {
   "cell_type": "code",
   "execution_count": 8,
   "metadata": {},
   "outputs": [
    {
     "data": {
      "text/html": [
       "<svg  width=\"660\" height=\"55\"><rect x=\"0\" y=\"0\" width=\"55\" height=\"55\" style=\"fill:#a6cee3;stroke-width:2;stroke:rgb(255,255,255)\"/><rect x=\"55\" y=\"0\" width=\"55\" height=\"55\" style=\"fill:#1f78b4;stroke-width:2;stroke:rgb(255,255,255)\"/><rect x=\"110\" y=\"0\" width=\"55\" height=\"55\" style=\"fill:#b2df8a;stroke-width:2;stroke:rgb(255,255,255)\"/><rect x=\"165\" y=\"0\" width=\"55\" height=\"55\" style=\"fill:#33a02c;stroke-width:2;stroke:rgb(255,255,255)\"/><rect x=\"220\" y=\"0\" width=\"55\" height=\"55\" style=\"fill:#fb9a99;stroke-width:2;stroke:rgb(255,255,255)\"/><rect x=\"275\" y=\"0\" width=\"55\" height=\"55\" style=\"fill:#e31a1c;stroke-width:2;stroke:rgb(255,255,255)\"/><rect x=\"330\" y=\"0\" width=\"55\" height=\"55\" style=\"fill:#fdbf6f;stroke-width:2;stroke:rgb(255,255,255)\"/><rect x=\"385\" y=\"0\" width=\"55\" height=\"55\" style=\"fill:#ff7f00;stroke-width:2;stroke:rgb(255,255,255)\"/><rect x=\"440\" y=\"0\" width=\"55\" height=\"55\" style=\"fill:#cab2d6;stroke-width:2;stroke:rgb(255,255,255)\"/><rect x=\"495\" y=\"0\" width=\"55\" height=\"55\" style=\"fill:#6a3d9a;stroke-width:2;stroke:rgb(255,255,255)\"/><rect x=\"550\" y=\"0\" width=\"55\" height=\"55\" style=\"fill:#ffff99;stroke-width:2;stroke:rgb(255,255,255)\"/><rect x=\"605\" y=\"0\" width=\"55\" height=\"55\" style=\"fill:#b15928;stroke-width:2;stroke:rgb(255,255,255)\"/></svg>"
      ],
      "text/plain": [
       "[(0.6509803921568628, 0.807843137254902, 0.8901960784313725),\n",
       " (0.12156862745098039, 0.47058823529411764, 0.7058823529411765),\n",
       " (0.6980392156862745, 0.8745098039215686, 0.5411764705882353),\n",
       " (0.2, 0.6274509803921569, 0.17254901960784313),\n",
       " (0.984313725490196, 0.6039215686274509, 0.6),\n",
       " (0.8901960784313725, 0.10196078431372549, 0.10980392156862745),\n",
       " (0.9921568627450981, 0.7490196078431373, 0.43529411764705883),\n",
       " (1.0, 0.4980392156862745, 0.0),\n",
       " (0.792156862745098, 0.6980392156862745, 0.8392156862745098),\n",
       " (0.41568627450980394, 0.23921568627450981, 0.6039215686274509),\n",
       " (1.0, 1.0, 0.6),\n",
       " (0.6941176470588235, 0.34901960784313724, 0.1568627450980392)]"
      ]
     },
     "execution_count": 8,
     "metadata": {},
     "output_type": "execute_result"
    }
   ],
   "source": [
    "# or, build a custom palette\n",
    "allcolors = sns.color_palette('Paired')\n",
    "allcolors"
   ]
  },
  {
   "cell_type": "code",
   "execution_count": 9,
   "metadata": {},
   "outputs": [
    {
     "data": {
      "text/html": [
       "<svg  width=\"495\" height=\"55\"><rect x=\"0\" y=\"0\" width=\"55\" height=\"55\" style=\"fill:#a6cee3;stroke-width:2;stroke:rgb(255,255,255)\"/><rect x=\"55\" y=\"0\" width=\"55\" height=\"55\" style=\"fill:#1f78b4;stroke-width:2;stroke:rgb(255,255,255)\"/><rect x=\"110\" y=\"0\" width=\"55\" height=\"55\" style=\"fill:#b2df8a;stroke-width:2;stroke:rgb(255,255,255)\"/><rect x=\"165\" y=\"0\" width=\"55\" height=\"55\" style=\"fill:#33a02c;stroke-width:2;stroke:rgb(255,255,255)\"/><rect x=\"220\" y=\"0\" width=\"55\" height=\"55\" style=\"fill:#6a3d9a;stroke-width:2;stroke:rgb(255,255,255)\"/><rect x=\"275\" y=\"0\" width=\"55\" height=\"55\" style=\"fill:#e31a1c;stroke-width:2;stroke:rgb(255,255,255)\"/><rect x=\"330\" y=\"0\" width=\"55\" height=\"55\" style=\"fill:#fdbf6f;stroke-width:2;stroke:rgb(255,255,255)\"/><rect x=\"385\" y=\"0\" width=\"55\" height=\"55\" style=\"fill:#ff7f00;stroke-width:2;stroke:rgb(255,255,255)\"/><rect x=\"440\" y=\"0\" width=\"55\" height=\"55\" style=\"fill:#ffff00;stroke-width:2;stroke:rgb(255,255,255)\"/></svg>"
      ],
      "text/plain": [
       "[(0.6509803921568628, 0.807843137254902, 0.8901960784313725),\n",
       " (0.12156862745098039, 0.47058823529411764, 0.7058823529411765),\n",
       " (0.6980392156862745, 0.8745098039215686, 0.5411764705882353),\n",
       " (0.2, 0.6274509803921569, 0.17254901960784313),\n",
       " (0.41568627450980394, 0.23921568627450981, 0.6039215686274509),\n",
       " (0.8901960784313725, 0.10196078431372549, 0.10980392156862745),\n",
       " (0.9921568627450981, 0.7490196078431373, 0.43529411764705883),\n",
       " (1.0, 0.4980392156862745, 0.0),\n",
       " (1, 1, 0)]"
      ]
     },
     "execution_count": 9,
     "metadata": {},
     "output_type": "execute_result"
    }
   ],
   "source": [
    "# continueing building custom palette\n",
    "palette[4] = allcolors[9]\n",
    "palette[8] = (1, 1, 0) # (r, g, b) in range (0,1)\n",
    "palette"
   ]
  },
  {
   "cell_type": "markdown",
   "metadata": {},
   "source": [
    "## !! \n",
    "\n",
    "So far you should have 6 variables: fn_ls, pixeltype_dict, N_types, types, markers, and palette.\n",
    "\n",
    "And a function to load the single channel images for local inspection.\n",
    "\n",
    "Below is the GUI part and shouldn't need modifications.\n",
    "\n",
    "***You should press \"refresh\" after changing cores or color code.***\n"
   ]
  },
  {
   "cell_type": "code",
   "execution_count": 21,
   "metadata": {},
   "outputs": [],
   "source": [
    "refreshrate = 500 # time intervals for event listeners im milisecond\n",
    "initial_padding = 30 # initital value for regional view\n",
    "\n",
    "\n",
    "# some color conversion functions \n",
    "def rgb_to_hex_i(r,g,b):\n",
    "    ''' integer rgb to hex'''\n",
    "    return '#%02x%02x%02x' % (r,g,b)\n",
    "\n",
    "def rgb_to_hex_f(rgb):\n",
    "    ''' float rgb to hex'''\n",
    "    return rgb_to_hex_i(*(np.array(rgb)*255).astype(int))\n",
    "\n",
    "def hex_to_rgb(value):\n",
    "    ''' hex to float rgb '''\n",
    "    value = value.lstrip('#')\n",
    "    lv = len(value)\n",
    "    return tuple(int(value[i:i+lv//3], 16)/255 for i in range(0, lv, lv//3))\n",
    "\n",
    "\n",
    "    "
   ]
  },
  {
   "cell_type": "code",
   "execution_count": 37,
   "metadata": {},
   "outputs": [],
   "source": [
    "# GUI parts\n",
    "# type name boxes\n",
    "w_name_boxes = [widgets.Text(description=\"\", value=types[i], layout={'width': 'initial', 'max_width':'100px'}) for i in range(N_type)]\n",
    "\n",
    "# type color pickers\n",
    "w_color_pickers = [widgets.ColorPicker(value = rgb_to_hex_f(palette[i]), concise = True) for i in range(N_type)]\n",
    "\n",
    "wb_name_color = widgets.VBox(children = [widgets.HBox((w_name_boxes[i], w_color_pickers[i])) for i in range(N_type)])\n",
    "\n",
    "# base image\n",
    "w_im = widgets.Image(layout={'max_width': '65%', \n",
    "    'max_height': '900px',\n",
    "    # 'object_fit':'contain'\n",
    "    })\n",
    "# core dropdown\n",
    "w_fn = widgets.Dropdown(options = fn_ls, value = fn_ls[0], description='Core', \n",
    "            style={'description_width': 'initial'},\n",
    "            layout={'width': 'initial', 'max_width':'200px'})\n",
    "\n",
    "# window size\n",
    "w_padding = widgets.IntText(description = \"radius\", value = initial_padding, step=3, min = 0, max=300,\n",
    "            style={'description_width': 'initial'},\n",
    "            layout={'width': 'initial', 'max_width':'200px'})\n",
    "\n",
    "# # marker selection\n",
    "# w_m = widgets.SelectMultiple(options = markers, value = markers, concise = True, rows = 10, \n",
    "#             # style={'description_width': 'initial'},\n",
    "#             layout={'width': 'initial', 'max_width':'200px'})\n",
    "\n",
    "# zoomed image preview\n",
    "w_zoom = widgets.Image(layout={'width': '50%', \n",
    "    'max_width':\"200px\",\n",
    "    'object_fit':'contain'\n",
    "    })\n",
    "\n",
    "# refresh button\n",
    "w_button_refresh = widgets.Button(description='Refresh', layout={'width': 'initial', 'max_width':'200px'})\n",
    "\n",
    "# info label\n",
    "w_l = widgets.Label(value='Ready. Cursor position will be shown here.')\n",
    "\n",
    "wb_right = widgets.VBox(( \n",
    "    w_fn, \n",
    "    w_padding, \n",
    "    wb_name_color,\n",
    "    w_button_refresh ,\n",
    "    w_zoom,\n",
    "    ))\n",
    "\n",
    "app = widgets.VBox((widgets.HBox((w_im, wb_right)), w_l))\n",
    "app.markers = markers"
   ]
  },
  {
   "cell_type": "code",
   "execution_count": 38,
   "metadata": {},
   "outputs": [],
   "source": [
    "# GUI functions and event listeners\n",
    "def readpalette():\n",
    "    colors = [hex_to_rgb(w_c.value) for w_c in w_color_pickers]\n",
    "    return sns.color_palette(colors)\n",
    "\n",
    "def nn2Bytes(nn):\n",
    "    '''converts an image np array to an actual image and save it in the buffer. '''\n",
    "    img_byte_arr = io.BytesIO()\n",
    "    plt.imsave(img_byte_arr, nn, format='PNG')\n",
    "    img_byte_arr = img_byte_arr.getvalue()\n",
    "    return img_byte_arr\n",
    "\n",
    "def fig2Bytes():\n",
    "    '''converts current figure to the image buffer'''\n",
    "    img_byte_arr = io.BytesIO()\n",
    "    plt.savefig(img_byte_arr, format='PNG')\n",
    "    img_byte_arr = img_byte_arr.getvalue()\n",
    "    return img_byte_arr\n",
    "\n",
    "def getbaseim(pixeltype_dict = pixeltype_dict):\n",
    "    nn = pixeltype_dict[w_fn.value]\n",
    "    palette = readpalette()\n",
    "    palette.reverse()\n",
    "    palette.append((0,0,0))\n",
    "    palette.reverse()\n",
    "    cmap = ListedColormap(palette)\n",
    "    '''converts an integer pixel type map array to an RGB image buffer'''\n",
    "    # convert 2D pixel type integers to 3D rgb with cmap\n",
    "    w_im.base_im = cmap(nn)\n",
    "    \n",
    "    # load into buffer\n",
    "\n",
    "def getbaseimbuffer(pixeltype_dict = pixeltype_dict):\n",
    "    getbaseim(pixeltype_dict = pixeltype_dict)\n",
    "    return nn2Bytes(w_im.base_im)\n",
    "\n",
    "def zoominregionloc(x, y):\n",
    "    nn = pixeltype_dict[w_fn.value]\n",
    "    padding = w_padding.value\n",
    "    [xmax, ymax] = nn.shape[0:2]\n",
    "\n",
    "    if 2*padding > min(xmax, ymax):\n",
    "        padding = int(min(xmax, ymax)-1)/2\n",
    "    \n",
    "    if x - padding < 0:\n",
    "        left, right = 0, 2*padding\n",
    "    elif x + padding > xmax:\n",
    "        left, right = xmax - 2*padding, xmax\n",
    "    else:\n",
    "        left, right = x - padding, x + padding\n",
    "\n",
    "    if y - padding < 0:\n",
    "        top, bot = 0, 2*padding\n",
    "    elif y + padding > ymax:\n",
    "        top, bot = ymax - 2*padding, ymax\n",
    "    else:\n",
    "        top, bot = y - padding, y + padding\n",
    "    return left, right, top, bot\n",
    "\n",
    "\n",
    "def zoominregion(x, y):\n",
    "    base_im = w_im.base_im\n",
    "    left, right, top, bot = zoominregionloc(x, y)\n",
    "    markers = app.markers\n",
    "    N = len(markers) + 1\n",
    "    y_n = int(np.ceil(np.sqrt(N)))\n",
    "    x_n = int(np.ceil(N/y_n))\n",
    "    fig, axes = plt.subplots(x_n,y_n,figsize=(y_n*2,x_n*2), facecolor=(1,1,1))\n",
    "    for i in range(x_n):\n",
    "            for j in range(y_n):\n",
    "                plt.sca(axes[i][j])\n",
    "                marker_id = i*y_n + j\n",
    "                if marker_id == 0:\n",
    "                    im = base_im\n",
    "                    plt.imshow(im[left:right, top:bot, :])\n",
    "                    plt.title('Type')\n",
    "                    plt.axis('off')\n",
    "                elif marker_id <= N:\n",
    "                    m = markers[marker_id - 1]\n",
    "                    im = singlechannel(w_fn.value, m)\n",
    "                    plt.imshow(im[left:right, top:bot, :])\n",
    "                    plt.title(m)\n",
    "                    plt.axis('off')\n",
    "                else:\n",
    "                    axes[i][j].set_visible(False)\n",
    "    plt.suptitle(f\"{w_fn.value}, ({y}, {x}), padding = {w_padding.value}\")\n",
    "    plt.tight_layout()\n",
    "    \n",
    "def nozoom():\n",
    "    fig = plt.figure(facecolor=(0,0,0), figsize=(2,2))\n",
    "    plt.imshow(np.zeros([1,1,3]))\n",
    "    plt.axis('off')\n",
    "    plt.text(0,0, \"Hover over the image to show preview here.\", ha='center',va='center',wrap=True, color=(1,1,1), fontsize='large')\n",
    "    w_zoom.value = fig2Bytes()\n",
    "    plt.close(fig)\n",
    "    \n",
    "\n",
    "\n",
    "def showfield(x, y):\n",
    "    left, right, top, bot = zoominregionloc(x, y)\n",
    "    base_im = w_im.base_im.copy()\n",
    "\n",
    "\n",
    "    w_zoom.value = nn2Bytes(base_im[left:right, top:bot, :])\n",
    "\n",
    "    base_im[left, top:bot, :] = 0\n",
    "    base_im[right, top:bot, :] = 0\n",
    "    base_im[left:right, bot, :] = 0\n",
    "    base_im[left:right, top, :] = 0\n",
    "\n",
    "    base_im[left-1, top-1:bot+1, :] = 1\n",
    "    base_im[right+1, top-1:bot+1, :] = 1\n",
    "    base_im[left-1:right+1, bot+1, :] = 1\n",
    "    base_im[left-1:right+1, top-1, :] = 1   \n",
    "\n",
    "    base_im[left+1, top+1:bot-1, :] = 1\n",
    "    base_im[right-1, top+1:bot-1, :] = 1\n",
    "    base_im[left+1:right-1, bot-1, :] = 1\n",
    "    base_im[left+1:right-1, top+1, :] = 1  \n",
    "    w_im.value = nn2Bytes(base_im)\n",
    "    \n",
    "def cbk_click(event):\n",
    "\n",
    "    x = event['dataX']\n",
    "    y = event['dataY']\n",
    "    zoominregion(y, x)\n",
    "        \n",
    "    \n",
    "event_click = Event()\n",
    "event_click.source = w_im\n",
    "event_click.watched_events = ['click']\n",
    "event_click.wait = 0\n",
    "event_click.on_dom_event(cbk_click)\n",
    "\n",
    "def refreshbase(*args):\n",
    "    w_im.value = getbaseimbuffer()\n",
    "\n",
    "w_button_refresh.on_click(refreshbase)\n",
    "\n",
    "def cbk_move(event):\n",
    "    x = event['dataX']\n",
    "    y = event['dataY']\n",
    "    if x + y > 0:\n",
    "        w_l.value = f\"({x}, {y})\"\n",
    "        showfield(y, x)\n",
    "        \n",
    "event_move = Event()\n",
    "event_move.source = w_im\n",
    "event_move.watched_events = ['mousemove']\n",
    "event_move.wait = refreshrate\n",
    "# event_move.throttle_or_debounce = 'debounce'\n",
    "event_move.on_dom_event(cbk_move)\n",
    "\n",
    "def cbk_leave(event):\n",
    "    w_l.value = 'Ready. Cursor position will be shown here.'\n",
    "    nozoom()\n",
    "\n",
    "event_leave = Event()\n",
    "event_leave.source = w_im\n",
    "event_leave.watched_events = ['mouseleave']\n",
    "event_leave.on_dom_event(cbk_leave)\n",
    "refreshbase()\n",
    "nozoom()"
   ]
  },
  {
   "cell_type": "code",
   "execution_count": 39,
   "metadata": {},
   "outputs": [
    {
     "data": {
      "application/vnd.jupyter.widget-view+json": {
       "model_id": "2e451801f5284a689e960ec6b218c3cd",
       "version_major": 2,
       "version_minor": 0
      },
      "text/plain": [
       "VBox(children=(HBox(children=(Image(value=b'\\x89PNG\\r\\n\\x1a\\n\\x00\\x00\\x00\\rIHDR\\x00\\x00\\x03\\xe9\\x00\\x00\\x03\\xe…"
      ]
     },
     "metadata": {},
     "output_type": "display_data"
    }
   ],
   "source": [
    "display(app)"
   ]
  },
  {
   "cell_type": "code",
   "execution_count": null,
   "metadata": {},
   "outputs": [],
   "source": []
  }
 ],
 "metadata": {
  "interpreter": {
   "hash": "fc13e5a332e133da0e2c74cac34c7ed5ac908312e3b08b86139f217288f05397"
  },
  "kernelspec": {
   "display_name": "Python 3.8.8 64-bit ('base': conda)",
   "name": "python3"
  },
  "language_info": {
   "codemirror_mode": {
    "name": "ipython",
    "version": 3
   },
   "file_extension": ".py",
   "mimetype": "text/x-python",
   "name": "python",
   "nbconvert_exporter": "python",
   "pygments_lexer": "ipython3",
   "version": "3.8.8"
  },
  "orig_nbformat": 4
 },
 "nbformat": 4,
 "nbformat_minor": 2
}